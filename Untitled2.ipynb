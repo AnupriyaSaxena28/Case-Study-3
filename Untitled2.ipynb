{
  "nbformat": 4,
  "nbformat_minor": 0,
  "metadata": {
    "colab": {
      "provenance": [],
      "authorship_tag": "ABX9TyOnRuQENpwyorHAx6FPmoNv",
      "include_colab_link": true
    },
    "kernelspec": {
      "name": "python3",
      "display_name": "Python 3"
    },
    "language_info": {
      "name": "python"
    }
  },
  "cells": [
    {
      "cell_type": "markdown",
      "metadata": {
        "id": "view-in-github",
        "colab_type": "text"
      },
      "source": [
        "<a href=\"https://colab.research.google.com/github/AnupriyaSaxena28/Case-Study-3/blob/main/Untitled2.ipynb\" target=\"_parent\"><img src=\"https://colab.research.google.com/assets/colab-badge.svg\" alt=\"Open In Colab\"/></a>"
      ]
    },
    {
      "cell_type": "code",
      "execution_count": 2,
      "metadata": {
        "colab": {
          "base_uri": "https://localhost:8080/"
        },
        "id": "9I5MubpO55K7",
        "outputId": "d104ab6c-064d-4d5c-feb7-071a6630be0b"
      },
      "outputs": [
        {
          "output_type": "stream",
          "name": "stdout",
          "text": [
            "Welcome to the Word Scramble Game!\n",
            "Unscramble the following word:\n",
            "ditoiaycrn\n",
            "Your guess: dictionary\n",
            "Congratulations! You unscrambled the word correctly!\n"
          ]
        }
      ],
      "source": [
        "import random\n",
        "\n",
        "def choose_word():\n",
        "  \"\"\"Selects a random word from a list.\"\"\"\n",
        "  words = [\"python\", \"programming\", \"computer\", \"algorithm\", \"variable\", \"function\", \"loop\", \"string\", \"list\", \"dictionary\", \"keyboard\", \"mouse\"]\n",
        "  return random.choice(words)\n",
        "\n",
        "def scramble_word(word):\n",
        "  \"\"\"Scrambles the letters of a word.\"\"\"\n",
        "  letters = list(word)\n",
        "  random.shuffle(letters)\n",
        "  return \"\".join(letters)\n",
        "\n",
        "def word_scramble_game():\n",
        "  \"\"\"Plays the word scramble game.\"\"\"\n",
        "  word = choose_word()\n",
        "  scrambled_word = scramble_word(word)\n",
        "\n",
        "  print(\"Welcome to the Word Scramble Game!\")\n",
        "  print(\"Unscramble the following word:\")\n",
        "  print(scrambled_word)\n",
        "\n",
        "  attempts = 0\n",
        "  max_attempts = 3 #you can change the number of attempts\n",
        "\n",
        "  while attempts < max_attempts:\n",
        "    guess = input(\"Your guess: \").lower()\n",
        "    attempts += 1\n",
        "\n",
        "    if guess == word:\n",
        "      print(\"Congratulations! You unscrambled the word correctly!\")\n",
        "      break\n",
        "    else:\n",
        "      if attempts < max_attempts:\n",
        "        print(\"Incorrect guess. Try again.\")\n",
        "      else:\n",
        "        print(f\"Sorry, you've run out of attempts. The correct word was: {word}\")\n",
        "\n",
        "if __name__ == \"__main__\":\n",
        "  word_scramble_game()"
      ]
    }
  ]
}